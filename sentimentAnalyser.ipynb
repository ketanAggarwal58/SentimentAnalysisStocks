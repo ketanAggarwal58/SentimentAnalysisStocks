{
 "cells": [
  {
   "cell_type": "code",
   "execution_count": 2,
   "metadata": {},
   "outputs": [
    {
     "name": "stderr",
     "output_type": "stream",
     "text": [
      "[nltk_data] Downloading package vader_lexicon to\n",
      "[nltk_data]     /Users/ketanaggarwal/nltk_data...\n"
     ]
    }
   ],
   "source": [
    "# Importing importnt libraries.\n",
    "\n",
    "from urllib.request import urlopen, Request\n",
    "from bs4 import BeautifulSoup\n",
    "import matplotlib.pyplot as plt\n",
    "%matplotlib inline\n",
    "import pandas as pd\n",
    "import os\n",
    "\n",
    "# NLTK VADER for sentiment analysis\n",
    "import nltk\n",
    "nltk.downloader.download('vader_lexicon')\n",
    "from nltk.sentiment.vader import SentimentIntensityAnalyzer\n"
   ]
  },
  {
   "cell_type": "markdown",
   "metadata": {},
   "source": [
    "We have imported all the necessary libraries which we required in order to build this stock sentiment analyser.\n",
    "\n",
    "we are using libraries:\n",
    "- pandas [For Working on DataFrame]\n",
    "- BS4 for beautiful soup which allows us to store data of a web page\n",
    "- Matplotlib for the visulation of the data using graph\n",
    "- nltk [Natual Language Tool Kit] for analysing the language which helps us to calculate the sentiment score\n"
   ]
  },
  {
   "cell_type": "code",
   "execution_count": 32,
   "metadata": {},
   "outputs": [],
   "source": [
    "from matplotlib import bezier\n",
    "\n",
    "\n",
    "finwiz_url = 'https://finviz.com/quote.ashx?t='\n",
    "\n",
    "news_tables = {}\n",
    "tickers = ['AMZN', 'TSLA', 'AAPL', 'TWTR', 'F', 'MSFT', 'GS']\n",
    "for ticker in tickers:\n",
    "    url = finwiz_url + ticker\n",
    "    req = Request(url=url,headers={'User-Agent': 'Mozilla/5.0 (Windows NT 6.1; WOW64; rv:20.0) Gecko/20100101 Firefox/20.0'}) \n",
    "    response = urlopen(req)\n",
    "    \n",
    "    # Read the contents of the file into 'html'\n",
    "    html = BeautifulSoup(response)\n",
    "    news_table = html.find(id='news-table')\n",
    "    \n",
    "    # Add the table to our dictionary\n",
    "    news_tables[ticker] = news_table"
   ]
  },
  {
   "cell_type": "markdown",
   "metadata": {},
   "source": [
    "Here we given the site URL from which we are takking the data.\n",
    "\n",
    "Tickers are the Stocks which we are monitoring.\n",
    "\n",
    "- TSLA [Tesla]\n",
    "- MSFT [Microsoft]\n",
    "- AAPL [Apple]\n",
    "- AMZN [Amazon]\n",
    "- TWTR [Twitter]\n",
    "- F [Ford]\n",
    "- GS [Goldman Scachs]"
   ]
  },
  {
   "cell_type": "code",
   "execution_count": 33,
   "metadata": {},
   "outputs": [
    {
     "name": "stdout",
     "output_type": "stream",
     "text": [
      "Amazon Prime Day alternatives: The best deals at Target, Best Buy, and Macy's\n",
      "Jul-09-22 02:18PM  \n",
      "These Two Retail Giants Just Might Be Inflation-Proof -- Here's Why\n",
      "11:41AM  \n",
      "Is It Too Late to Buy Kornit Digital Stock?\n",
      "11:24AM  \n",
      "Costco is dominating retail as economy slows\n",
      "08:25AM  \n"
     ]
    }
   ],
   "source": [
    "# Read one single day of headlines for ‘AMZN’ \n",
    "amzn = news_tables['AMZN']\n",
    "\n",
    "# Get all the table rows tagged in HTML with <tr> into ‘amzn_tr’\n",
    "amzn_tr = amzn.findAll('tr')\n",
    "\n",
    "for i, table_row in enumerate(amzn_tr):\n",
    "    \n",
    "    # Read the text of the element ‘a’ into ‘link_text’\n",
    "    a_text = table_row.a.text\n",
    "    \n",
    "    # Read the text of the element ‘td’ into ‘data_text’\n",
    "    td_text = table_row.td.text\n",
    "    \n",
    "    # Print the contents of ‘link_text’ and ‘data_text’ \n",
    "    print(a_text)\n",
    "    print(td_text)\n",
    "    \n",
    "    # Exit after printing 4 rows of data\n",
    "    if i == 3:\n",
    "        break"
   ]
  },
  {
   "cell_type": "code",
   "execution_count": 34,
   "metadata": {},
   "outputs": [],
   "source": [
    "parsed_news = []\n",
    "\n",
    "# Iterate through the news\n",
    "for file_name, news_table in news_tables.items():\n",
    "    \n",
    "    # Iterate through all tr tags in 'news_table'\n",
    "    for x in news_table.findAll('tr'):\n",
    "        # read the text from each tr tag into text\n",
    "        # get text from a only\n",
    "        text = x.a.get_text() \n",
    "        # splite text in the td tag into a list \n",
    "        date_scrape = x.td.text.split()\n",
    "        # if the length of 'date_scrape' is 1, load 'time' as the only element\n",
    "        \n",
    "        if len(date_scrape) == 1:\n",
    "                    time = date_scrape[0]            \n",
    "        # else load 'date' as the 1st element and 'time' as the second    \n",
    "        else:\n",
    "            date = date_scrape[0]\n",
    "            time = date_scrape[1]\n",
    "        # Extract the ticker from the file name, get the string up to the 1st '_'  \n",
    "            ticker = file_name.split('_')[0]\n",
    "                \n",
    "            # Append ticker, date, time and headline as a list to the 'parsed_news' list\n",
    "            parsed_news.append([ticker, date, time, text])\n",
    "                \n",
    "        parsed_news[:5] # print first 5 rows of news"
   ]
  },
  {
   "cell_type": "code",
   "execution_count": 35,
   "metadata": {},
   "outputs": [
    {
     "data": {
      "text/html": [
       "<div>\n",
       "<style scoped>\n",
       "    .dataframe tbody tr th:only-of-type {\n",
       "        vertical-align: middle;\n",
       "    }\n",
       "\n",
       "    .dataframe tbody tr th {\n",
       "        vertical-align: top;\n",
       "    }\n",
       "\n",
       "    .dataframe thead th {\n",
       "        text-align: right;\n",
       "    }\n",
       "</style>\n",
       "<table border=\"1\" class=\"dataframe\">\n",
       "  <thead>\n",
       "    <tr style=\"text-align: right;\">\n",
       "      <th></th>\n",
       "      <th>ticker</th>\n",
       "      <th>date</th>\n",
       "      <th>time</th>\n",
       "      <th>headline</th>\n",
       "      <th>neg</th>\n",
       "      <th>neu</th>\n",
       "      <th>pos</th>\n",
       "      <th>compound</th>\n",
       "    </tr>\n",
       "  </thead>\n",
       "  <tbody>\n",
       "    <tr>\n",
       "      <th>0</th>\n",
       "      <td>AMZN</td>\n",
       "      <td>2022-07-09</td>\n",
       "      <td>02:18PM</td>\n",
       "      <td>Amazon Prime Day alternatives: The best deals ...</td>\n",
       "      <td>0.00</td>\n",
       "      <td>0.498</td>\n",
       "      <td>0.502</td>\n",
       "      <td>0.8779</td>\n",
       "    </tr>\n",
       "    <tr>\n",
       "      <th>1</th>\n",
       "      <td>AMZN</td>\n",
       "      <td>2022-07-08</td>\n",
       "      <td>10:27PM</td>\n",
       "      <td>The Top CEOs: Kudos to 24 Game-Changing Corpor...</td>\n",
       "      <td>0.00</td>\n",
       "      <td>0.579</td>\n",
       "      <td>0.421</td>\n",
       "      <td>0.6249</td>\n",
       "    </tr>\n",
       "    <tr>\n",
       "      <th>2</th>\n",
       "      <td>AMZN</td>\n",
       "      <td>2022-07-07</td>\n",
       "      <td>06:46PM</td>\n",
       "      <td>Why Amazon Stock Climbed Today</td>\n",
       "      <td>0.00</td>\n",
       "      <td>0.702</td>\n",
       "      <td>0.298</td>\n",
       "      <td>0.1779</td>\n",
       "    </tr>\n",
       "    <tr>\n",
       "      <th>3</th>\n",
       "      <td>AMZN</td>\n",
       "      <td>2022-07-06</td>\n",
       "      <td>10:26PM</td>\n",
       "      <td>Amazon (AMZN) Takes Equity Stake in Grubhub</td>\n",
       "      <td>0.00</td>\n",
       "      <td>0.779</td>\n",
       "      <td>0.221</td>\n",
       "      <td>0.1779</td>\n",
       "    </tr>\n",
       "    <tr>\n",
       "      <th>4</th>\n",
       "      <td>TSLA</td>\n",
       "      <td>2022-07-10</td>\n",
       "      <td>04:30AM</td>\n",
       "      <td>Dow Jones Futures: Market Faces Test It's Fail...</td>\n",
       "      <td>0.18</td>\n",
       "      <td>0.820</td>\n",
       "      <td>0.000</td>\n",
       "      <td>-0.5106</td>\n",
       "    </tr>\n",
       "  </tbody>\n",
       "</table>\n",
       "</div>"
      ],
      "text/plain": [
       "  ticker        date     time  \\\n",
       "0   AMZN  2022-07-09  02:18PM   \n",
       "1   AMZN  2022-07-08  10:27PM   \n",
       "2   AMZN  2022-07-07  06:46PM   \n",
       "3   AMZN  2022-07-06  10:26PM   \n",
       "4   TSLA  2022-07-10  04:30AM   \n",
       "\n",
       "                                            headline   neg    neu    pos  \\\n",
       "0  Amazon Prime Day alternatives: The best deals ...  0.00  0.498  0.502   \n",
       "1  The Top CEOs: Kudos to 24 Game-Changing Corpor...  0.00  0.579  0.421   \n",
       "2                     Why Amazon Stock Climbed Today  0.00  0.702  0.298   \n",
       "3        Amazon (AMZN) Takes Equity Stake in Grubhub  0.00  0.779  0.221   \n",
       "4  Dow Jones Futures: Market Faces Test It's Fail...  0.18  0.820  0.000   \n",
       "\n",
       "   compound  \n",
       "0    0.8779  \n",
       "1    0.6249  \n",
       "2    0.1779  \n",
       "3    0.1779  \n",
       "4   -0.5106  "
      ]
     },
     "execution_count": 35,
     "metadata": {},
     "output_type": "execute_result"
    }
   ],
   "source": [
    "# Instantiate the sentiment intensity analyzer\n",
    "vader = SentimentIntensityAnalyzer()\n",
    "\n",
    "# Set column names\n",
    "columns = ['ticker', 'date', 'time', 'headline']\n",
    "\n",
    "# Convert the parsed_news list into a DataFrame called 'parsed_and_scored_news'\n",
    "parsed_and_scored_news = pd.DataFrame(parsed_news, columns=columns)\n",
    "\n",
    "# Iterate through the headlines and get the polarity scores using vader\n",
    "scores = parsed_and_scored_news['headline'].apply(vader.polarity_scores).tolist()\n",
    "\n",
    "# Convert the 'scores' list of dicts into a DataFrame\n",
    "scores_df = pd.DataFrame(scores)\n",
    "\n",
    "# Join the DataFrames of the news and the list of dicts\n",
    "parsed_and_scored_news = parsed_and_scored_news.join(scores_df, rsuffix='_right')\n",
    "\n",
    "# Convert the date column from string to datetime\n",
    "parsed_and_scored_news['date'] = pd.to_datetime(parsed_and_scored_news.date).dt.date\n",
    "# display(parsed_and_scored_news)\n",
    "parsed_and_scored_news.head()"
   ]
  },
  {
   "cell_type": "markdown",
   "metadata": {},
   "source": []
  },
  {
   "cell_type": "code",
   "execution_count": 36,
   "metadata": {},
   "outputs": [
    {
     "data": {
      "image/png": "[encoded data removed]",
      "text/plain": [
       "<Figure size 1152x432 with 1 Axes>"
      ]
     },
     "metadata": {
      "needs_background": "light"
     },
     "output_type": "display_data"
    }
   ],
   "source": [
    "plt.rcParams['figure.figsize'] = [16, 6]\n",
    "\n",
    "# Group by date and ticker columns from scored_news and calculate the mean\n",
    "mean_scores = parsed_and_scored_news.groupby(['ticker','date']).mean()\n",
    "\n",
    "# Unstack the column ticker\n",
    "mean_scores = mean_scores.unstack()\n",
    "\n",
    "# Get the cross-section of compound in the 'columns' axis\n",
    "mean_scores = mean_scores.xs('compound', axis=\"columns\").transpose()\n",
    "\n",
    "# Plot a bar chart with pandas\n",
    "mean_scores.plot(kind = 'bar')\n",
    "plt.grid()"
   ]
  },
  {
   "cell_type": "markdown",
   "metadata": {},
   "source": [
    "Here We are plotting the Graph Which shows the people sentiments while according to these particular stocks."
   ]
  }
 ],
 "metadata": {
  "kernelspec": {
   "display_name": "Python 3.9.6 ('base')",
   "language": "python",
   "name": "python3"
  },
  "language_info": {
   "codemirror_mode": {
    "name": "ipython",
    "version": 3
   },
   "file_extension": ".py",
   "mimetype": "text/x-python",
   "name": "python",
   "nbconvert_exporter": "python",
   "pygments_lexer": "ipython3",
   "version": "3.9.6"
  },
  "orig_nbformat": 4,
  "vscode": {
   "interpreter": {
    "hash": "9d66fd2d865fef43902abb40e04e5cadfe429f73cb1d9844c7f08b17d1846e62"
   }
  }
 },
 "nbformat": 4,
 "nbformat_minor": 2
}
